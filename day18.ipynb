{
 "cells": [
  {
   "cell_type": "markdown",
   "id": "ef08ed80",
   "metadata": {},
   "source": [
    "# Task 1"
   ]
  },
  {
   "cell_type": "code",
   "execution_count": 82,
   "id": "145c5cb0",
   "metadata": {},
   "outputs": [],
   "source": [
    "import numpy as np\n",
    "from collections import deque"
   ]
  },
  {
   "cell_type": "code",
   "execution_count": 83,
   "id": "b1becf33",
   "metadata": {},
   "outputs": [],
   "source": [
    "# read in data from txt file\n",
    "with open(\"day18.txt\", 'r') as txt:\n",
    "    lines = [x.strip('\\n') for x in txt.readlines()]"
   ]
  },
  {
   "cell_type": "code",
   "execution_count": 84,
   "id": "7fcf6773",
   "metadata": {},
   "outputs": [],
   "source": [
    "# converting string into cartesian coordinates\n",
    "cubes = []\n",
    "for line in lines:\n",
    "    temp = tuple(line.split(','))\n",
    "    cubes.append(temp)\n",
    "coords = np.array(cubes).astype(int)"
   ]
  },
  {
   "cell_type": "markdown",
   "id": "3488d707",
   "metadata": {},
   "source": [
    "## Create a cartesian grid with 'False' Values"
   ]
  },
  {
   "cell_type": "code",
   "execution_count": 119,
   "id": "87157ecf",
   "metadata": {},
   "outputs": [],
   "source": [
    "# slice coord by columns to get the max/min of each direction\n",
    "x_max = coords[:,0].max()\n",
    "y_max = coords[:,1].max()\n",
    "z_max = coords[:,2].max()\n",
    "\n",
    "x_min = coords[:,0].min()\n",
    "y_min = coords[:,1].min()\n",
    "z_min = coords[:,2].min()"
   ]
  },
  {
   "cell_type": "code",
   "execution_count": 120,
   "id": "60b55358",
   "metadata": {},
   "outputs": [],
   "source": [
    "#make the grid of 'False' Values a little bit bigger to avoid 'index out of range error' \n",
    "cube_bool_array = np.full((x_max+2, y_max+2, z_max+2), False) "
   ]
  },
  {
   "cell_type": "markdown",
   "id": "d858884e",
   "metadata": {},
   "source": [
    "## Parse coordinates from input into our grid and change Value to True\n",
    "## it indicates where lava is "
   ]
  },
  {
   "cell_type": "code",
   "execution_count": 121,
   "id": "adb7d52a",
   "metadata": {},
   "outputs": [],
   "source": [
    "for x, y, z in coords:\n",
    "    cube_bool_array[x, y ,z] = True"
   ]
  },
  {
   "cell_type": "code",
   "execution_count": 87,
   "id": "a44c7ecb",
   "metadata": {},
   "outputs": [],
   "source": [
    "# we create a subarray of the 'current cell' it will constist of all nearby cells indeces excluding diagonals)\n",
    "# it will return an array of length 6 variation of -> (2*x+ 2*y+ 2*z)\n",
    "def create_sub_arrays(ix, iy, iz):\n",
    "    temp = np.array([(ix+1, iy, iz), (ix, iy+1, iz), (ix, iy, iz+1),\n",
    "                    (ix-1, iy, iz), (ix, iy-1, iz), (ix, iy, iz-1)])\n",
    "    return temp"
   ]
  },
  {
   "cell_type": "markdown",
   "id": "add3da03",
   "metadata": {},
   "source": [
    "### We have to count all Faces which are connected (neighbor 'True' cell)"
   ]
  },
  {
   "cell_type": "code",
   "execution_count": 88,
   "id": "69d97e13",
   "metadata": {},
   "outputs": [
    {
     "data": {
      "text/plain": [
       "12080"
      ]
     },
     "execution_count": 88,
     "metadata": {},
     "output_type": "execute_result"
    }
   ],
   "source": [
    "touching_surfaces = 0\n",
    "for x, y, z in coords:\n",
    "    sub_arrays = create_sub_arrays(x, y, z)\n",
    "    for ix, iy, iz in sub_arrays:\n",
    "        #if any indexes are negative it means we are 'past' the edge of our grid which is a valid surface area\n",
    "        if np.any(np.array([ix, iy, iz])<0):\n",
    "            continue\n",
    "        element = cube_bool_array[ix, iy, iz]\n",
    "        if element:\n",
    "            touching_surfaces += 1\n",
    "touching_surfaces"
   ]
  },
  {
   "cell_type": "markdown",
   "id": "aff500d8",
   "metadata": {},
   "source": [
    "### Now we only need to substract the maximum amount of faces with touching surfaces\n",
    "### (a Cube has a maximum of 6 faces)"
   ]
  },
  {
   "cell_type": "code",
   "execution_count": 89,
   "id": "9ffbe24d",
   "metadata": {},
   "outputs": [
    {
     "data": {
      "text/plain": [
       "4474"
      ]
     },
     "execution_count": 89,
     "metadata": {},
     "output_type": "execute_result"
    }
   ],
   "source": [
    "net_surface = (6*len(coords))-touching_surfaces\n",
    "net_surface"
   ]
  },
  {
   "cell_type": "markdown",
   "id": "5e4097dd",
   "metadata": {},
   "source": [
    "# Task 2\n"
   ]
  },
  {
   "cell_type": "code",
   "execution_count": 123,
   "id": "0ab72505",
   "metadata": {},
   "outputs": [],
   "source": [
    "def BFS(x, y, z):\n",
    "    stack = deque()\n",
    "    stack.append((x, y, z))\n",
    "    visited = set()\n",
    "    \n",
    "    while stack:\n",
    "        x, y, z = stack.popleft()\n",
    "        if (x, y, z) in visited:\n",
    "            continue\n",
    "        visited.add((x, y, z))\n",
    "        if cube_bool_array[x, y, z]: #checks if lava is in the potential path\n",
    "            continue\n",
    "        elif ((x>x_max or xi<x_min) or (y>y_max or y<y_min) or (z>z_max or z<z_min)): #check if edge of grid has been hit\n",
    "            return True\n",
    "        sub_arrays = create_sub_arrays(x, y ,z)\n",
    "        for neighbor_x, neighbor_y, neighbor_z in sub_arrays:\n",
    "            stack.append((neighbor_x, neighbor_y, neighbor_z))\n",
    "            \n",
    "    return False #if stack is empty it means there is no path to edge"
   ]
  },
  {
   "cell_type": "code",
   "execution_count": 124,
   "id": "cef05ed6",
   "metadata": {},
   "outputs": [],
   "source": [
    "# brute force solution parse every coord:\n",
    "counter = 0\n",
    "for x, y, z in coords:\n",
    "    sub_arrays = create_sub_arrays(x, y, z)\n",
    "    for xi, yi ,zi in sub_arrays:\n",
    "        if BFS(xi, yi, zi):\n",
    "            counter += 1"
   ]
  },
  {
   "cell_type": "code",
   "execution_count": 122,
   "id": "f2969d81",
   "metadata": {
    "scrolled": true
   },
   "outputs": [
    {
     "data": {
      "text/plain": [
       "2518"
      ]
     },
     "execution_count": 122,
     "metadata": {},
     "output_type": "execute_result"
    }
   ],
   "source": [
    "counter #solution"
   ]
  }
 ],
 "metadata": {
  "kernelspec": {
   "display_name": "Python 3 (ipykernel)",
   "language": "python",
   "name": "python3"
  },
  "language_info": {
   "codemirror_mode": {
    "name": "ipython",
    "version": 3
   },
   "file_extension": ".py",
   "mimetype": "text/x-python",
   "name": "python",
   "nbconvert_exporter": "python",
   "pygments_lexer": "ipython3",
   "version": "3.9.13"
  }
 },
 "nbformat": 4,
 "nbformat_minor": 5
}
